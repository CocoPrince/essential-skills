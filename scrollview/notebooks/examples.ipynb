{
 "cells": [
  {
   "cell_type": "code",
   "execution_count": 3,
   "metadata": {},
   "outputs": [
    {
     "name": "stdout",
     "output_type": "stream",
     "text": [
      "Using matplotlib backend: TkAgg\n"
     ]
    }
   ],
   "source": [
    "%matplotlib auto\n",
    "import matplotlib.pyplot as plt\n",
    "import numpy as np\n",
    "import SimpleITK as sitk\n",
    "import time\n",
    "\n",
    "import os\n",
    "import sys\n",
    "sys.path.append(os.path.abspath('../'))\n",
    "from scrollview import ScrollView\n",
    "import tkinter"
   ]
  },
  {
   "cell_type": "markdown",
   "metadata": {},
   "source": [
    "# Minimum working example"
   ]
  },
  {
   "cell_type": "markdown",
   "metadata": {},
   "source": [
    "#### Load an image"
   ]
  },
  {
   "cell_type": "code",
   "execution_count": 4,
   "metadata": {},
   "outputs": [],
   "source": [
    "im = sitk.GetArrayFromImage(sitk.ReadImage('lungs.mhd'))\n",
    "fig, ax = plt.subplots(1, 3)"
   ]
  },
  {
   "cell_type": "markdown",
   "metadata": {},
   "source": [
    "#### Define Scroller objects"
   ]
  },
  {
   "cell_type": "code",
   "execution_count": 7,
   "metadata": {},
   "outputs": [],
   "source": [
    "view1 = ScrollView(im)\n",
    "view2 = ScrollView(im.transpose(1, 0, 2))\n",
    "view3 = ScrollView(im.transpose(2, 0, 1))"
   ]
  },
  {
   "cell_type": "markdown",
   "metadata": {},
   "source": [
    "#### Put objects on Matplotlib axes"
   ]
  },
  {
   "cell_type": "code",
   "execution_count": 8,
   "metadata": {},
   "outputs": [],
   "source": [
    "def mean95(im):\n",
    "    \"\"\"Range for imshow between mean - 2 * stdev and mean + 2 * stdev\"\"\"\n",
    "    d = {}\n",
    "    d['vmin'] = im.mean() - 2 * im.std()\n",
    "    d['vmax'] = im.mean() + 2 * im.std()\n",
    "    return d\n",
    "\n",
    "view1.plot(ax[0], cmap='gray', aspect=1, **mean95(im))\n",
    "view2.plot(ax[1], cmap='gray', aspect=2.5, **mean95(im))\n",
    "view3.plot(ax[2], cmap='gray', aspect=2.5, **mean95(im))\n",
    "[x.set_axis_off() for x in ax.flatten()];"
   ]
  },
  {
   "cell_type": "markdown",
   "metadata": {},
   "source": [
    "#### Setting the slice to the middle slice of the volume"
   ]
  },
  {
   "cell_type": "code",
   "execution_count": 9,
   "metadata": {},
   "outputs": [],
   "source": [
    "for view in [view1, view2, view3]:\n",
    "    view.slice_index = view.volume.shape[0] // 2"
   ]
  },
  {
   "cell_type": "markdown",
   "metadata": {},
   "source": [
    "#### Animate scrolling through the slices"
   ]
  },
  {
   "cell_type": "code",
   "execution_count": 10,
   "metadata": {},
   "outputs": [],
   "source": [
    "for i in range(1000):\n",
    "    try:\n",
    "        for view in [view1, view2, view3]:\n",
    "            view.slice_index = i % view.volume.shape[0]\n",
    "        plt.pause(0.1)\n",
    "    except tkinter.TclError as e:\n",
    "        # The window was closed. Stop the loop:\n",
    "        break"
   ]
  }
 ],
 "metadata": {
  "kernelspec": {
   "display_name": "Python 3",
   "language": "python",
   "name": "python3"
  },
  "language_info": {
   "codemirror_mode": {
    "name": "ipython",
    "version": 3
   },
   "file_extension": ".py",
   "mimetype": "text/x-python",
   "name": "python",
   "nbconvert_exporter": "python",
   "pygments_lexer": "ipython3",
   "version": "3.6.8"
  }
 },
 "nbformat": 4,
 "nbformat_minor": 2
}
